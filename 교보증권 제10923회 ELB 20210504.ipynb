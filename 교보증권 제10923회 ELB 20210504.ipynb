{
 "cells": [
  {
   "cell_type": "code",
   "execution_count": 3,
   "metadata": {
    "ExecuteTime": {
     "end_time": "2021-05-08T06:17:00.747586Z",
     "start_time": "2021-05-08T06:16:55.572788Z"
    }
   },
   "outputs": [],
   "source": [
    "import FinanceDataReader as fdr\n",
    "import numpy as np\n",
    "import pandas as pd\n",
    "import datetime as dt\n",
    "from datetime import timedelta\n",
    "from dateutil.relativedelta import relativedelta # 시간차이 계산\n",
    "import matplotlib.pyplot as plt"
   ]
  },
  {
   "cell_type": "markdown",
   "metadata": {},
   "source": [
    "# Backtesting"
   ]
  },
  {
   "cell_type": "code",
   "execution_count": 4,
   "metadata": {
    "ExecuteTime": {
     "end_time": "2021-05-08T06:17:04.714615Z",
     "start_time": "2021-05-08T06:17:01.604964Z"
    },
    "scrolled": false
   },
   "outputs": [
    {
     "data": {
      "text/plain": [
       "DatetimeIndex(['2000-12-26', '2001-01-02', '2001-01-03', '2001-01-04',\n",
       "               '2001-01-05', '2001-01-08', '2001-01-09', '2001-01-10',\n",
       "               '2001-01-11', '2001-01-12',\n",
       "               ...\n",
       "               '2018-12-19', '2018-12-20', '2018-12-21', '2018-12-24',\n",
       "               '2018-12-26', '2018-12-27', '2018-12-28', '2019-01-02',\n",
       "               '2019-01-03', '2019-01-04'],\n",
       "              dtype='datetime64[ns]', name='Date', length=4454, freq=None)"
      ]
     },
     "execution_count": 4,
     "metadata": {},
     "output_type": "execute_result"
    }
   ],
   "source": [
    "# KOSPI200 데이터\n",
    "today = dt.datetime.now()\n",
    "today = dt.datetime(today.year,today.month,today.day); today\n",
    "\n",
    "test_start_date = dt.date(1999,1,4)\n",
    "test_end_date = dt.date(2019,1,4)   # 20년 데이터\n",
    "KOSPI = fdr.DataReader('KS200',test_start_date , test_end_date+relativedelta(years=2)); \n",
    "KOSPI_date=  KOSPI.loc[test_start_date:test_end_date].index ;  KOSPI_date  # 코스피 주가의 유효날짜들"
   ]
  },
  {
   "cell_type": "code",
   "execution_count": 6,
   "metadata": {
    "ExecuteTime": {
     "end_time": "2021-05-08T06:17:09.808580Z",
     "start_time": "2021-05-08T06:17:09.695224Z"
    }
   },
   "outputs": [],
   "source": [
    "# 날짜들\n",
    "\n",
    "day_list = [ test_start_date + relativedelta(days=i) for i in range( ((test_end_date - test_start_date)).days +1 ) ]; day_list[-1]\n",
    "\n",
    "five_days_list = [ test_start_date + relativedelta(days=5*i) for i in range( ((test_end_date - test_start_date)).days//5 +1 ) ]; five_days_list[-1]\n",
    "\n",
    "week_list = [ test_start_date + relativedelta(weeks=i) for i in range( ((test_end_date - test_start_date)/7).days +1 ) ]; week_list[-1]\n",
    "\n",
    "months_num = ( test_end_date.year - test_start_date.year )*12 - (test_end_date.month - test_start_date.month)\n",
    "month_list = [ test_start_date + relativedelta(months=i) for i in range( months_num +1 ) ]; month_list[-1];"
   ]
  },
  {
   "cell_type": "code",
   "execution_count": 7,
   "metadata": {
    "ExecuteTime": {
     "end_time": "2021-05-08T06:17:27.905159Z",
     "start_time": "2021-05-08T06:17:11.436446Z"
    },
    "scrolled": false
   },
   "outputs": [
    {
     "data": {
      "image/png": "[encoded data removed]",
      "text/plain": [
       "<Figure size 432x288 with 2 Axes>"
      ]
     },
     "metadata": {
      "needs_background": "light"
     },
     "output_type": "display_data"
    }
   ],
   "source": [
    "return_list = []\n",
    "\n",
    "date_list = day_list\n",
    "# date_list = five_days_list\n",
    "# date_list = week_list\n",
    "# date_list = month_list\n",
    "\n",
    "\n",
    "\n",
    "\n",
    "for idx, i in enumerate(date_list):\n",
    "    start_date, end_date = i, i+  relativedelta(months = 18)\n",
    "    \n",
    "    while start_date not in KOSPI.index:  # 날짜가 없는 경우\n",
    "        start_date += dt.timedelta(days=1)\n",
    "        \n",
    "    date_list[idx] = start_date\n",
    "        \n",
    "    while end_date not in KOSPI.index :\n",
    "        end_date += dt.timedelta(days=1)\n",
    "    \n",
    "    \n",
    "    \n",
    "    temp_data = KOSPI[start_date : end_date];\n",
    "    First_price = temp_data.loc[start_date]['Open']\n",
    "    End_price = temp_data.loc[end_date]['Close']\n",
    "#     High_price = temp_data.loc[end_date]['High']\n",
    "#     Low_price = temp_date.loc[end_date]['Low']\n",
    "#     price_list = temp_data['Close']\n",
    "\n",
    "    if np.sum(temp_data['High'] > First_price * 1.15 ) > 0:  # 115% 초과?\n",
    "        case1 = 1\n",
    "    else : case1 = 0\n",
    "\n",
    "    if np.sum(temp_data['Close'] < First_price * 0.9 ) > 0:   # 90% 미만?\n",
    "        case2 = 1\n",
    "    else : case2 = 0\n",
    "\n",
    "        \n",
    "        \n",
    "    if (case1 == 1) & (case2 == 1):\n",
    "        _return = 1.5\n",
    "\n",
    "    elif (case1 == 1) & (case2 == 0):\n",
    "        if End_price >= First_price:  # 최종가격 상승시\n",
    "            _return = 1.\n",
    "        else :                        # 최종가격 하락시\n",
    "            _return = 1. + (First_price - End_price) / First_price * 17\n",
    "\n",
    "    elif (case1 == 0) & (case2 == 1):\n",
    "        if End_price >= First_price: \n",
    "            _return = 1. - (First_price - End_price) / First_price * 17\n",
    "        else :\n",
    "            _return = 1.\n",
    "    elif (case1 == 0) & (case2 == 0):\n",
    "        if End_price >= First_price: \n",
    "            _return = .5 - (First_price - End_price) / First_price * 17\n",
    "        else :\n",
    "            _return = .5 + (First_price - End_price) / First_price * 17\n",
    "    return_list.append(_return)\n",
    "#     print( case1,case2)\n",
    "\n",
    "\n",
    "# 그래프 그리기\n",
    "x = date_list\n",
    "y1 = return_list\n",
    "y2 = KOSPI.loc[date_list]['High']\n",
    "\n",
    "fg, ax1 = plt.subplots()\n",
    "\n",
    "ax1.plot(x, y1)\n",
    "ax1.set_ylim(0, 18)\n",
    "ax1.set_xlabel('Year')\n",
    "ax1.set_ylabel('Return')\n",
    "ax1.tick_params(axis='both', direction='in')\n",
    "ax1.set_ylim(0,4)  # y축 범위 제한\n",
    "\n",
    "ax2 = ax1.twinx()\n",
    "ax2.plot(x, y2, color='red')\n",
    "ax2.set_ylabel('KOSPI200')\n",
    "ax2.tick_params(axis='y', direction='in')\n",
    "\n",
    "\n",
    "plt.show()\n"
   ]
  },
  {
   "cell_type": "markdown",
   "metadata": {
    "ExecuteTime": {
     "end_time": "2021-05-07T12:07:46.299915Z",
     "start_time": "2021-05-07T12:07:45.986802Z"
    }
   },
   "source": [
    "# 몬테카를로 시뮬레이션"
   ]
  },
  {
   "cell_type": "markdown",
   "metadata": {},
   "source": [
    "https://kosis.kr/statHtml/statHtml.do?orgId=343&tblId=DT_343_2010_S0032\n",
    "\n",
    "코스피 배당수익률은 1.5로 가정\n",
    "코스피 수익률은 위에서 사용한 수익률을 가정.\n",
    "\n",
    "GBM 모형 사용.\n",
    "ST = S0 * exp( (mu - 0.5 * sigma^2)T + sigma * T^0.5 * z ) "
   ]
  },
  {
   "cell_type": "code",
   "execution_count": 105,
   "metadata": {
    "ExecuteTime": {
     "end_time": "2021-05-08T07:14:19.166789Z",
     "start_time": "2021-05-08T07:14:18.665664Z"
    }
   },
   "outputs": [],
   "source": [
    "test_T = len(KOSPI) / 252\n",
    "mu = np.log( [( KOSPI.iloc[-1]['Close'] - KOSPI.iloc[0]['Open'] ) / KOSPI.iloc[0]['Open'] ] )[0] / test_T ; mu # 연속복리 약 8.4%수익?\n",
    "q = 0.015\n",
    "# sigma = KOSPI['Change'].var()**0.5 ; sigma    # 표준편차 약 1.4%.\n",
    "sigma = 0.1\n",
    "\n",
    "T = 1.5\n",
    "M = 1000\n",
    "dt = T / M\n",
    "\n",
    "Iter = 10000 \n",
    "\n",
    "S = np.zeros((Iter,M+1))\n",
    "S0 = KOSPI.loc['2021-01-04']['Open']\n",
    "S[:,0]=S0  # 시작가격\n",
    "\n",
    "for i in range(1,M+1):\n",
    "    S[:,i] = S[:,i-1] * np.exp( (mu-q - 0.5*(sigma**2) )*dt + sigma*(dt**0.5) * np.random.standard_normal((Iter)) )\n"
   ]
  },
  {
   "cell_type": "code",
   "execution_count": 107,
   "metadata": {
    "ExecuteTime": {
     "end_time": "2021-05-08T07:14:20.628289Z",
     "start_time": "2021-05-08T07:14:20.601392Z"
    }
   },
   "outputs": [],
   "source": [
    "test_case1 = np.max(S, axis = 1) > S0*1.15          # 115% 초과?     \n",
    "test_case2 = ( np.min(S, axis = 1) < S0*0.9 ) * 2   #  90% 미만?     \n",
    "\n",
    "test_case= test_case2 + test_case1\n",
    "\n",
    "\n",
    "#  0 :  안정적              1 : 115%만 초과, 90%미만X\n",
    "#  2 : 90%미만 115%초과X    3 : 115% & 90% 초과\n"
   ]
  },
  {
   "cell_type": "code",
   "execution_count": 108,
   "metadata": {
    "ExecuteTime": {
     "end_time": "2021-05-08T07:14:21.555863Z",
     "start_time": "2021-05-08T07:14:21.449150Z"
    }
   },
   "outputs": [
    {
     "data": {
      "text/plain": [
       "array([1.        , 1.69296922, 1.98388692, ..., 1.        , 1.        ,\n",
       "       1.52565527])"
      ]
     },
     "execution_count": 108,
     "metadata": {},
     "output_type": "execute_result"
    }
   ],
   "source": [
    "Return = np.zeros(Iter)\n",
    "\n",
    "Return[ test_case ==0 ] = 0.5 + 17*np.abs( (S[test_case==0][:,-1] - S[test_case==0][:,0])/S[test_case==0][:,0] )\n",
    "Return[ test_case ==1 ] = 1 + 17*np.max( ( (S[test_case==1][:,0] - S[test_case==1][:,-1])/S[test_case==1][:,0] )[:,np.newaxis], axis=1 , initial=0 )\n",
    "Return[ test_case ==2 ] = 1 + 17*np.max( ( (S[test_case==2][:,-1] - S[test_case==2][:,0])/S[test_case==2][:,0] )[:,np.newaxis], axis=1 , initial=0 )\n",
    "Return[ test_case ==3 ] = 1.5\n",
    "\n",
    "\n",
    "Return\n"
   ]
  }
 ],
 "metadata": {
  "kernelspec": {
   "display_name": "Python 3",
   "language": "python",
   "name": "python3"
  },
  "language_info": {
   "codemirror_mode": {
    "name": "ipython",
    "version": 3
   },
   "file_extension": ".py",
   "mimetype": "text/x-python",
   "name": "python",
   "nbconvert_exporter": "python",
   "pygments_lexer": "ipython3",
   "version": "3.7.1"
  },
  "toc": {
   "base_numbering": 1,
   "nav_menu": {},
   "number_sections": true,
   "sideBar": true,
   "skip_h1_title": false,
   "title_cell": "Table of Contents",
   "title_sidebar": "Contents",
   "toc_cell": false,
   "toc_position": {},
   "toc_section_display": true,
   "toc_window_display": false
  },
  "varInspector": {
   "cols": {
    "lenName": 16,
    "lenType": 16,
    "lenVar": 40
   },
   "kernels_config": {
    "python": {
     "delete_cmd_postfix": "",
     "delete_cmd_prefix": "del ",
     "library": "var_list.py",
     "varRefreshCmd": "print(var_dic_list())"
    },
    "r": {
     "delete_cmd_postfix": ") ",
     "delete_cmd_prefix": "rm(",
     "library": "var_list.r",
     "varRefreshCmd": "cat(var_dic_list()) "
    }
   },
   "types_to_exclude": [
    "module",
    "function",
    "builtin_function_or_method",
    "instance",
    "_Feature"
   ],
   "window_display": false
  }
 },
 "nbformat": 4,
 "nbformat_minor": 2
}
